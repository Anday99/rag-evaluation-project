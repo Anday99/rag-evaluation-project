{
 "cells": [
  {
   "cell_type": "code",
   "execution_count": null,
   "metadata": {
    "vscode": {
     "languageId": "plaintext"
    }
   },
   "outputs": [],
   "source": [
    "!pip install datasets\n",
    "!pip install ragas\n",
    "!pip install rouge_score\n",
    "!pip install sacrebleu\n",
    "!pip install ragatouille"
   ]
  },
  {
   "cell_type": "code",
   "execution_count": null,
   "metadata": {
    "vscode": {
     "languageId": "plaintext"
    }
   },
   "outputs": [],
   "source": [
    "import json\n",
    "import torch\n",
    "import os\n",
    "import pandas as pd\n",
    "from datasets import Dataset\n",
    "from transformers import AutoTokenizer, AutoModelForSeq2SeqLM"
   ]
  },
  {
   "cell_type": "code",
   "execution_count": null,
   "metadata": {
    "vscode": {
     "languageId": "plaintext"
    }
   },
   "outputs": [],
   "source": [
    "import json\n",
    "from ragatouille import RAGPretrainedModel\n",
    "\n",
    "# Modelin yüklenmesi\n",
    "rag = RAGPretrainedModel.from_pretrained(\"ytu-ce-cosmos/turkish-colbert\")\n",
    "\n",
    "# Girdi dosyasını yükleme\n",
    "input_path = \"./questions.json\"\n",
    "with open(input_path, \"r\", encoding=\"utf-8\") as file:\n",
    "    questions_data = json.load(file)\n",
    "\n",
    "# Soruları işleme ve cevapları toplama\n",
    "results = []\n",
    "for item in questions_data[\"questions\"]:\n",
    "    item[\"context\"] = [a.replace(\"I\", \"ı\").lower() for a in item[\"context\"]]\n",
    "    real_answer = item[\"answer\"]\n",
    "    rag.index(item[\"context\"], index_name=f\"sampleTest{real_answer}\")\n",
    "\n",
    "    query = item[\"question\"]\n",
    "    query = query.replace(\"I\", \"ı\").lower()\n",
    "\n",
    "    model_answer = rag.search(query, k= 1)\n",
    "    print(query)\n",
    "    print(model_answer[0]['content'])\n",
    "\n",
    "    # Sonuçları toplama\n",
    "    results.append({\n",
    "        \"context\": item[\"context\"],\n",
    "        \"question\": item[\"question\"],\n",
    "        \"real_answer\": real_answer,\n",
    "        \"model_answer\": model_answer[0]['content']\n",
    "    })\n",
    "\n",
    "# Çıktıyı updated_answers.json formatında kaydetme\n",
    "output_path = \"./updated_answers.json\"\n",
    "with open(output_path, \"w\", encoding=\"utf-8\") as outfile:\n",
    "    json.dump({\"results\": results}, outfile, ensure_ascii=False, indent=4)\n",
    "\n",
    "print(f\"Cevaplar {output_path} dosyasına yazıldı.\")"
   ]
  },
  {
   "cell_type": "code",
   "execution_count": null,
   "metadata": {
    "vscode": {
     "languageId": "plaintext"
    }
   },
   "outputs": [],
   "source": [
    "import json\n",
    "from ragatouille import RAGPretrainedModel\n",
    "\n",
    "# Modelin yüklenmesi\n",
    "rag = RAGPretrainedModel.from_pretrained(\"jinaai/jina-colbert-v2\")\n",
    "\n",
    "# Girdi dosyasını yükleme\n",
    "input_path = \"./questions.json\"\n",
    "with open(input_path, \"r\", encoding=\"utf-8\") as file:\n",
    "    questions_data = json.load(file)\n",
    "\n",
    "# Soruları işleme ve cevapları toplama\n",
    "results = []\n",
    "for item in questions_data[\"questions\"]:\n",
    "    item[\"context\"] = [a.replace(\"I\", \"ı\").lower() for a in item[\"context\"]]\n",
    "    real_answer = item[\"answer\"]\n",
    "\n",
    "    # Bağlamı indekse ekleme\n",
    "    rag.index(item[\"context\"], index_name=f\"sampleTest{real_answer}\")\n",
    "\n",
    "    # Sorguyu hazırlama\n",
    "    query = item[\"question\"]\n",
    "    query = query.replace(\"I\", \"ı\").lower()\n",
    "\n",
    "    # Modelden sonuç alma\n",
    "    model_answer = rag.search(query, k=1)\n",
    "    print(query)\n",
    "    print(model_answer[0][\"content\"])\n",
    "\n",
    "    # Sonuçları toplama\n",
    "    results.append({\n",
    "        \"context\": item[\"context\"],\n",
    "        \"question\": item[\"question\"],\n",
    "        \"real_answer\": real_answer,\n",
    "        \"model_answer\": model_answer[0][\"content\"]\n",
    "    })\n",
    "\n",
    "# Çıktıyı updated_answers.json formatında kaydetme\n",
    "output_path = \"./updated_answers_2.json\"\n",
    "with open(output_path, \"w\", encoding=\"utf-8\") as outfile:\n",
    "    json.dump({\"results\": results}, outfile, ensure_ascii=False, indent=4)\n",
    "\n",
    "print(f\"Cevaplar {output_path} dosyasına yazıldı.\")"
   ]
  },
  {
   "cell_type": "code",
   "execution_count": null,
   "metadata": {
    "vscode": {
     "languageId": "plaintext"
    }
   },
   "outputs": [],
   "source": [
    "import json\n",
    "from ragatouille import RAGPretrainedModel\n",
    "\n",
    "# Modelin yüklenmesi\n",
    "rag = RAGPretrainedModel.from_pretrained(\"andreaschari/colbert-xm-lt-cafr\")\n",
    "\n",
    "# Girdi dosyasını yükleme\n",
    "input_path = \"./questions.json\"\n",
    "with open(input_path, \"r\", encoding=\"utf-8\") as file:\n",
    "    questions_data = json.load(file)\n",
    "\n",
    "# Soruları işleme ve cevapları toplama\n",
    "results = []\n",
    "for item in questions_data[\"questions\"]:\n",
    "    item[\"context\"] = [a.replace(\"I\", \"ı\").lower() for a in item[\"context\"]]\n",
    "    real_answer = item[\"answer\"]\n",
    "\n",
    "    # Bağlamı indekse ekleme\n",
    "    rag.index(item[\"context\"], index_name=f\"sampleTest{real_answer}\")\n",
    "\n",
    "    # Sorguyu hazırlama\n",
    "    query = item[\"question\"]\n",
    "    query = query.replace(\"I\", \"ı\").lower()\n",
    "\n",
    "    # Modelden sonuç alma\n",
    "    model_answer = rag.search(query, k=1)\n",
    "    print(query)\n",
    "    print(model_answer[0][\"content\"])\n",
    "\n",
    "    # Sonuçları toplama\n",
    "    results.append({\n",
    "        \"context\": item[\"context\"],\n",
    "        \"question\": item[\"question\"],\n",
    "        \"real_answer\": real_answer,\n",
    "        \"model_answer\": model_answer[0][\"content\"]\n",
    "    })\n",
    "\n",
    "# Çıktıyı updated_answers.json formatında kaydetme\n",
    "output_path = \"./updated_answers_3.json\"\n",
    "with open(output_path, \"w\", encoding=\"utf-8\") as outfile:\n",
    "    json.dump({\"results\": results}, outfile, ensure_ascii=False, indent=4)\n",
    "\n",
    "print(f\"Cevaplar {output_path} dosyasına yazıldı.\")\n"
   ]
  }
 ],
 "metadata": {
  "language_info": {
   "name": "python"
  }
 },
 "nbformat": 4,
 "nbformat_minor": 2
}
