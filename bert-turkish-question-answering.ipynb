{
 "cells": [
  {
   "cell_type": "code",
   "execution_count": 1,
   "metadata": {},
   "outputs": [],
   "source": [
    "import json\n",
    "from transformers import AutoTokenizer, AutoModelForQuestionAnswering, pipeline\n",
    "from ragas.metrics import RougeScore, BleuScore, ExactMatch, StringPresence\n",
    "from ragas.metrics._string import NonLLMStringSimilarity\n",
    "from ragas.evaluation import EvaluationDataset, evaluate\n",
    "from ragas.dataset_schema import SingleTurnSample\n",
    "import pandas as pd\n",
    "import os\n",
    "import matplotlib.pyplot as plt"
   ]
  },
  {
   "cell_type": "code",
   "execution_count": 2,
   "metadata": {},
   "outputs": [],
   "source": [
    "def bert_turkish_question_answering(rag_model_name):\n",
    "\n",
    "    # Modeli yükleme\n",
    "    nlp = pipeline('question-answering', model='lserinol/bert-turkish-question-answering', tokenizer='lserinol/bert-turkish-question-answering')\n",
    "\n",
    "    # JSON dosyasını yükleme\n",
    "    input_path = f\"./RAG Model Çıktıları/{rag_model_name}_updated_answers.json\"\n",
    "    with open(input_path, \"r\", encoding=\"utf-8\") as file:\n",
    "        data = json.load(file)\n",
    "\n",
    "    # Tahminleri ve sonuçları toplama\n",
    "    results = []\n",
    "    for item in data[\"results\"]:\n",
    "        # Context'i birleştirme\n",
    "        context = item[\"model_answer\"]\n",
    "        question = item[\"question\"]\n",
    "        real_answer = item[\"real_answer\"]\n",
    "\n",
    "        # Modelden cevap tahmini\n",
    "        try:\n",
    "            model_output = nlp({\n",
    "                'question': question,\n",
    "                'context': context\n",
    "            })\n",
    "            model_answer = model_output['answer']\n",
    "        except Exception as e:\n",
    "            model_answer = f\"Model tahmin edemedi: {e}\"\n",
    "\n",
    "        # Sonuçları kaydetme\n",
    "        results.append({\n",
    "            \"context\": context,\n",
    "            \"question\": question,\n",
    "            \"real_answer\": real_answer,\n",
    "            \"model_answer\": model_answer\n",
    "        })\n",
    "\n",
    "    # Sonuçları updated_answers dosyasına yazma\n",
    "    output_path = f\"./RAG Modelleri & bert-turkish-question-answering/{rag_model_name}_updated_answers.json\"\n",
    "    with open(output_path, \"w\", encoding=\"utf-8\") as outfile:\n",
    "        json.dump({\"results\": results}, outfile, ensure_ascii=False, indent=4)\n",
    "\n",
    "    print(f\"Cevaplar '{output_path}' dosyasına yazıldı.\")"
   ]
  },
  {
   "cell_type": "code",
   "execution_count": 3,
   "metadata": {},
   "outputs": [],
   "source": [
    "def ragas_metric_calculation(model_name):\n",
    "\n",
    "    # OpenAI API anahtarını ayarlama\n",
    "    os.environ[\"OPENAI_API_KEY\"] = \"\" #Kendi API key'iniz ile doldurun.\n",
    "\n",
    "    # JSON dosyasını yükleme\n",
    "    with open(f\"./RAG Modelleri & bert-turkish-question-answering/{model_name}_updated_answers.json\", \"r\", encoding=\"utf-8\") as f:\n",
    "        data = json.load(f)\n",
    "\n",
    "    # Veri örneklerini JSON'dan SingleTurnSample formatına dönüştürme\n",
    "    samples = [\n",
    "        SingleTurnSample(\n",
    "            user_input=item[\"question\"],\n",
    "            retrieved_contexts=[\" \".join(item[\"context\"])],  # Context listesi birleştirilir\n",
    "            response=item[\"model_answer\"],\n",
    "            reference=item[\"real_answer\"]\n",
    "        )\n",
    "        for item in data[\"results\"]\n",
    "    ]\n",
    "\n",
    "    # Değerlendirme veri setini oluşturma\n",
    "    dataset = EvaluationDataset(samples=samples)\n",
    "\n",
    "    # Değerlendirmeyi gerçekleştirme\n",
    "    results = evaluate(dataset, metrics=[RougeScore(), BleuScore(), ExactMatch(), StringPresence(),NonLLMStringSimilarity()])\n",
    "\n",
    "    # Sonuçları analiz etme\n",
    "    df = results.to_pandas()\n",
    "    display(df.head())  # İlk birkaç sonucu ekrana yazdırma\n",
    "\n",
    "    # Sonuçları bir CSV dosyasına kaydetme (isteğe bağlı)\n",
    "    output_path = f\"./RAG Modelleri & bert-turkish-question-answering/{model_name}_ragas_evaluation_results.csv\"\n",
    "    df.to_csv(output_path, index=False)\n",
    "    print(f\"Sonuçlar '{output_path}' dosyasına kaydedildi.\")"
   ]
  },
  {
   "cell_type": "code",
   "execution_count": 4,
   "metadata": {},
   "outputs": [],
   "source": [
    "scores = {\n",
    "    \"model\": [],\n",
    "    \"bleu\": [],\n",
    "    \"rouge\": [],\n",
    "    \"exact_match\": [],\n",
    "    \"string_present\": [],\n",
    "    \"string_similarity\": []\n",
    "    }\n",
    "\n",
    "def average_ragas_scores(model_name):\n",
    "    # CSV dosyasını okuma\n",
    "    file_path = f\"./RAG Modelleri & bert-turkish-question-answering/{model_name}_ragas_evaluation_results.csv\"  # Dosya adınızı buraya yazın\n",
    "    df = pd.read_csv(file_path)\n",
    "\n",
    "    # Ortalama BLEU ve ROUGE skorlarını hesaplama\n",
    "    average_bleu = df[\"bleu_score\"].mean()\n",
    "    average_rouge = df[\"rouge_score\"].mean()\n",
    "    average_exact_match = df[\"exact_match\"].mean()\n",
    "    average_string_present = df[\"string_present\"].mean()\n",
    "    average_non_llm_string_similarity = df[\"non_llm_string_similarity\"].mean()\n",
    "\n",
    "    scores[\"model\"].append(model_name)\n",
    "    scores[\"bleu\"].append(average_bleu)\n",
    "    scores[\"rouge\"].append(average_rouge)\n",
    "    scores[\"exact_match\"].append(average_exact_match)\n",
    "    scores[\"string_present\"].append(average_string_present)\n",
    "    scores[\"string_similarity\"].append(average_non_llm_string_similarity)\n",
    "\n",
    "    # Sonuçları yazdırma\n",
    "    print(f\"Ortalama BLEU Skoru: {average_bleu:.3f}\")\n",
    "    print(f\"Ortalama ROUGE Skoru: {average_rouge:.3f}\")\n",
    "    print(f\"Ortalama Exact Match Skoru: {average_exact_match:.3f}\")\n",
    "    print(f\"Ortalama String Present Skoru: {average_string_present:.3f}\")\n",
    "    print(f\"Ortalama String Similarity Skoru: {average_non_llm_string_similarity:.3f}\")"
   ]
  },
  {
   "cell_type": "code",
   "execution_count": 5,
   "metadata": {},
   "outputs": [
    {
     "data": {
      "application/vnd.jupyter.widget-view+json": {
       "model_id": "9b993c57b7aa4cd28182e6e228ac54a3",
       "version_major": 2,
       "version_minor": 0
      },
      "text/plain": [
       "config.json:   0%|          | 0.00/1.24k [00:00<?, ?B/s]"
      ]
     },
     "metadata": {},
     "output_type": "display_data"
    },
    {
     "name": "stderr",
     "output_type": "stream",
     "text": [
      "d:\\Python\\lib\\site-packages\\huggingface_hub\\file_download.py:139: UserWarning: `huggingface_hub` cache-system uses symlinks by default to efficiently store duplicated files but your machine does not support them in C:\\Users\\anday\\.cache\\huggingface\\hub\\models--lserinol--bert-turkish-question-answering. Caching files will still work but in a degraded version that might require more space on your disk. This warning can be disabled by setting the `HF_HUB_DISABLE_SYMLINKS_WARNING` environment variable. For more details, see https://huggingface.co/docs/huggingface_hub/how-to-cache#limitations.\n",
      "To support symlinks on Windows, you either need to activate Developer Mode or to run Python as an administrator. In order to activate developer mode, see this article: https://docs.microsoft.com/en-us/windows/apps/get-started/enable-your-device-for-development\n",
      "  warnings.warn(message)\n"
     ]
    },
    {
     "data": {
      "application/vnd.jupyter.widget-view+json": {
       "model_id": "fceccedd35a641eab53948951b2e5d73",
       "version_major": 2,
       "version_minor": 0
      },
      "text/plain": [
       "pytorch_model.bin:   0%|          | 0.00/443M [00:00<?, ?B/s]"
      ]
     },
     "metadata": {},
     "output_type": "display_data"
    },
    {
     "name": "stderr",
     "output_type": "stream",
     "text": [
      "Some weights of the model checkpoint at lserinol/bert-turkish-question-answering were not used when initializing BertForQuestionAnswering: ['bert.pooler.dense.bias', 'bert.pooler.dense.weight']\n",
      "- This IS expected if you are initializing BertForQuestionAnswering from the checkpoint of a model trained on another task or with another architecture (e.g. initializing a BertForSequenceClassification model from a BertForPreTraining model).\n",
      "- This IS NOT expected if you are initializing BertForQuestionAnswering from the checkpoint of a model that you expect to be exactly identical (initializing a BertForSequenceClassification model from a BertForSequenceClassification model).\n"
     ]
    },
    {
     "data": {
      "application/vnd.jupyter.widget-view+json": {
       "model_id": "5d220b4c1e1d4a059bd11885cbd65089",
       "version_major": 2,
       "version_minor": 0
      },
      "text/plain": [
       "tokenizer_config.json:   0%|          | 0.00/40.0 [00:00<?, ?B/s]"
      ]
     },
     "metadata": {},
     "output_type": "display_data"
    },
    {
     "data": {
      "application/vnd.jupyter.widget-view+json": {
       "model_id": "6f2f039e02774231acbf5893c0eacb7b",
       "version_major": 2,
       "version_minor": 0
      },
      "text/plain": [
       "vocab.txt:   0%|          | 0.00/251k [00:00<?, ?B/s]"
      ]
     },
     "metadata": {},
     "output_type": "display_data"
    },
    {
     "data": {
      "application/vnd.jupyter.widget-view+json": {
       "model_id": "470cd176f325490199a37224a71a84a0",
       "version_major": 2,
       "version_minor": 0
      },
      "text/plain": [
       "special_tokens_map.json:   0%|          | 0.00/112 [00:00<?, ?B/s]"
      ]
     },
     "metadata": {},
     "output_type": "display_data"
    },
    {
     "name": "stderr",
     "output_type": "stream",
     "text": [
      "Device set to use cuda:0\n",
      "d:\\Python\\lib\\site-packages\\transformers\\pipelines\\question_answering.py:391: FutureWarning: Passing a list of SQuAD examples to the pipeline is deprecated and will be removed in v5. Inputs should be passed using the `question` and `context` keyword arguments instead.\n",
      "  warnings.warn(\n",
      "You seem to be using the pipelines sequentially on GPU. In order to maximize efficiency please use a dataset\n"
     ]
    },
    {
     "name": "stdout",
     "output_type": "stream",
     "text": [
      "Cevaplar './RAG Modelleri & bert-turkish-question-answering/jinaaijina-colbert-v2_updated_answers.json' dosyasına yazıldı.\n",
      "\n",
      "\n",
      "jinaaijina-colbert-v2 modeline ait RAGAS ölçüm sonuçları aşağıdaki gibidir.\n"
     ]
    },
    {
     "data": {
      "application/vnd.jupyter.widget-view+json": {
       "model_id": "6d77e355cf4547ee9b027a48c12548f6",
       "version_major": 2,
       "version_minor": 0
      },
      "text/plain": [
       "Evaluating:   0%|          | 0/250 [00:00<?, ?it/s]"
      ]
     },
     "metadata": {},
     "output_type": "display_data"
    },
    {
     "data": {
      "text/html": [
       "<div>\n",
       "<style scoped>\n",
       "    .dataframe tbody tr th:only-of-type {\n",
       "        vertical-align: middle;\n",
       "    }\n",
       "\n",
       "    .dataframe tbody tr th {\n",
       "        vertical-align: top;\n",
       "    }\n",
       "\n",
       "    .dataframe thead th {\n",
       "        text-align: right;\n",
       "    }\n",
       "</style>\n",
       "<table border=\"1\" class=\"dataframe\">\n",
       "  <thead>\n",
       "    <tr style=\"text-align: right;\">\n",
       "      <th></th>\n",
       "      <th>user_input</th>\n",
       "      <th>retrieved_contexts</th>\n",
       "      <th>response</th>\n",
       "      <th>reference</th>\n",
       "      <th>rouge_score</th>\n",
       "      <th>bleu_score</th>\n",
       "      <th>exact_match</th>\n",
       "      <th>string_present</th>\n",
       "      <th>non_llm_string_similarity</th>\n",
       "    </tr>\n",
       "  </thead>\n",
       "  <tbody>\n",
       "    <tr>\n",
       "      <th>0</th>\n",
       "      <td>Fenerbahçe'nin transferden en çok gelir elde e...</td>\n",
       "      <td>[2 0 2 3 / 2 0 2 4   s e z o n u n d a   f e n...</td>\n",
       "      <td>2023/2024</td>\n",
       "      <td>2023/2024</td>\n",
       "      <td>1.0</td>\n",
       "      <td>0.0</td>\n",
       "      <td>1.0</td>\n",
       "      <td>1.0</td>\n",
       "      <td>1.000000</td>\n",
       "    </tr>\n",
       "    <tr>\n",
       "      <th>1</th>\n",
       "      <td>Fenerbahçe'nin transferden en az gelir elde et...</td>\n",
       "      <td>[2 0 2 1 / 2 0 2 2   s e z o n u n d a   f e n...</td>\n",
       "      <td>2021/2022</td>\n",
       "      <td>2021/2022</td>\n",
       "      <td>1.0</td>\n",
       "      <td>0.0</td>\n",
       "      <td>1.0</td>\n",
       "      <td>1.0</td>\n",
       "      <td>1.000000</td>\n",
       "    </tr>\n",
       "    <tr>\n",
       "      <th>2</th>\n",
       "      <td>Türkiye'nin turizm gelirlerinin en yüksek oldu...</td>\n",
       "      <td>[2 0 2 2   y ı l ı n d a   t u r i z m   g e l...</td>\n",
       "      <td>2022</td>\n",
       "      <td>2022</td>\n",
       "      <td>1.0</td>\n",
       "      <td>0.0</td>\n",
       "      <td>1.0</td>\n",
       "      <td>1.0</td>\n",
       "      <td>1.000000</td>\n",
       "    </tr>\n",
       "    <tr>\n",
       "      <th>3</th>\n",
       "      <td>Türkiye'nin turizm gelirlerinin en düşük olduğ...</td>\n",
       "      <td>[t ü r k i y e ' d e   t u r i z m   g e l i r...</td>\n",
       "      <td>2020</td>\n",
       "      <td>2020</td>\n",
       "      <td>1.0</td>\n",
       "      <td>0.0</td>\n",
       "      <td>1.0</td>\n",
       "      <td>1.0</td>\n",
       "      <td>1.000000</td>\n",
       "    </tr>\n",
       "    <tr>\n",
       "      <th>4</th>\n",
       "      <td>2005/2006 sezonunda 25 golden daha fazla gol a...</td>\n",
       "      <td>[a l e x   d e   s o u z a   2 0 0 5 / 2 0 0 6...</td>\n",
       "      <td>alex de souza</td>\n",
       "      <td>Alex de Souza</td>\n",
       "      <td>1.0</td>\n",
       "      <td>0.0</td>\n",
       "      <td>0.0</td>\n",
       "      <td>0.0</td>\n",
       "      <td>0.846154</td>\n",
       "    </tr>\n",
       "  </tbody>\n",
       "</table>\n",
       "</div>"
      ],
      "text/plain": [
       "                                          user_input  \\\n",
       "0  Fenerbahçe'nin transferden en çok gelir elde e...   \n",
       "1  Fenerbahçe'nin transferden en az gelir elde et...   \n",
       "2  Türkiye'nin turizm gelirlerinin en yüksek oldu...   \n",
       "3  Türkiye'nin turizm gelirlerinin en düşük olduğ...   \n",
       "4  2005/2006 sezonunda 25 golden daha fazla gol a...   \n",
       "\n",
       "                                  retrieved_contexts       response  \\\n",
       "0  [2 0 2 3 / 2 0 2 4   s e z o n u n d a   f e n...      2023/2024   \n",
       "1  [2 0 2 1 / 2 0 2 2   s e z o n u n d a   f e n...      2021/2022   \n",
       "2  [2 0 2 2   y ı l ı n d a   t u r i z m   g e l...           2022   \n",
       "3  [t ü r k i y e ' d e   t u r i z m   g e l i r...           2020   \n",
       "4  [a l e x   d e   s o u z a   2 0 0 5 / 2 0 0 6...  alex de souza   \n",
       "\n",
       "       reference  rouge_score  bleu_score  exact_match  string_present  \\\n",
       "0      2023/2024          1.0         0.0          1.0             1.0   \n",
       "1      2021/2022          1.0         0.0          1.0             1.0   \n",
       "2           2022          1.0         0.0          1.0             1.0   \n",
       "3           2020          1.0         0.0          1.0             1.0   \n",
       "4  Alex de Souza          1.0         0.0          0.0             0.0   \n",
       "\n",
       "   non_llm_string_similarity  \n",
       "0                   1.000000  \n",
       "1                   1.000000  \n",
       "2                   1.000000  \n",
       "3                   1.000000  \n",
       "4                   0.846154  "
      ]
     },
     "metadata": {},
     "output_type": "display_data"
    },
    {
     "name": "stdout",
     "output_type": "stream",
     "text": [
      "Sonuçlar './RAG Modelleri & bert-turkish-question-answering/jinaaijina-colbert-v2_ragas_evaluation_results.csv' dosyasına kaydedildi.\n",
      "\n",
      "\n",
      "jinaaijina-colbert-v2 modeline ait ortalama RAGAS ölçüm sonuçları aşağıdaki gibidir.\n",
      "Ortalama BLEU Skoru: 0.006\n",
      "Ortalama ROUGE Skoru: 0.474\n",
      "Ortalama Exact Match Skoru: 0.260\n",
      "Ortalama String Present Skoru: 0.360\n",
      "Ortalama String Similarity Skoru: 0.537\n"
     ]
    },
    {
     "name": "stderr",
     "output_type": "stream",
     "text": [
      "Some weights of the model checkpoint at lserinol/bert-turkish-question-answering were not used when initializing BertForQuestionAnswering: ['bert.pooler.dense.bias', 'bert.pooler.dense.weight']\n",
      "- This IS expected if you are initializing BertForQuestionAnswering from the checkpoint of a model trained on another task or with another architecture (e.g. initializing a BertForSequenceClassification model from a BertForPreTraining model).\n",
      "- This IS NOT expected if you are initializing BertForQuestionAnswering from the checkpoint of a model that you expect to be exactly identical (initializing a BertForSequenceClassification model from a BertForSequenceClassification model).\n",
      "Device set to use cuda:0\n",
      "d:\\Python\\lib\\site-packages\\transformers\\pipelines\\question_answering.py:391: FutureWarning: Passing a list of SQuAD examples to the pipeline is deprecated and will be removed in v5. Inputs should be passed using the `question` and `context` keyword arguments instead.\n",
      "  warnings.warn(\n"
     ]
    },
    {
     "name": "stdout",
     "output_type": "stream",
     "text": [
      "Cevaplar './RAG Modelleri & bert-turkish-question-answering/ytu-ce-cosmosturkish-colbert_updated_answers.json' dosyasına yazıldı.\n",
      "\n",
      "\n",
      "ytu-ce-cosmosturkish-colbert modeline ait RAGAS ölçüm sonuçları aşağıdaki gibidir.\n"
     ]
    },
    {
     "data": {
      "application/vnd.jupyter.widget-view+json": {
       "model_id": "c4ddb327bc6346e59d514951d7daeed5",
       "version_major": 2,
       "version_minor": 0
      },
      "text/plain": [
       "Evaluating:   0%|          | 0/250 [00:00<?, ?it/s]"
      ]
     },
     "metadata": {},
     "output_type": "display_data"
    },
    {
     "data": {
      "text/html": [
       "<div>\n",
       "<style scoped>\n",
       "    .dataframe tbody tr th:only-of-type {\n",
       "        vertical-align: middle;\n",
       "    }\n",
       "\n",
       "    .dataframe tbody tr th {\n",
       "        vertical-align: top;\n",
       "    }\n",
       "\n",
       "    .dataframe thead th {\n",
       "        text-align: right;\n",
       "    }\n",
       "</style>\n",
       "<table border=\"1\" class=\"dataframe\">\n",
       "  <thead>\n",
       "    <tr style=\"text-align: right;\">\n",
       "      <th></th>\n",
       "      <th>user_input</th>\n",
       "      <th>retrieved_contexts</th>\n",
       "      <th>response</th>\n",
       "      <th>reference</th>\n",
       "      <th>rouge_score</th>\n",
       "      <th>bleu_score</th>\n",
       "      <th>exact_match</th>\n",
       "      <th>string_present</th>\n",
       "      <th>non_llm_string_similarity</th>\n",
       "    </tr>\n",
       "  </thead>\n",
       "  <tbody>\n",
       "    <tr>\n",
       "      <th>0</th>\n",
       "      <td>Fenerbahçe'nin transferden en çok gelir elde e...</td>\n",
       "      <td>[2 0 2 1 / 2 0 2 2   s e z o n u n d a   f e n...</td>\n",
       "      <td>2021/2022</td>\n",
       "      <td>2023/2024</td>\n",
       "      <td>0.0</td>\n",
       "      <td>0.0</td>\n",
       "      <td>0.0</td>\n",
       "      <td>0.0</td>\n",
       "      <td>0.777778</td>\n",
       "    </tr>\n",
       "    <tr>\n",
       "      <th>1</th>\n",
       "      <td>Fenerbahçe'nin transferden en az gelir elde et...</td>\n",
       "      <td>[2 0 2 1 / 2 0 2 2   s e z o n u n d a   f e n...</td>\n",
       "      <td>2021/2022</td>\n",
       "      <td>2021/2022</td>\n",
       "      <td>1.0</td>\n",
       "      <td>0.0</td>\n",
       "      <td>1.0</td>\n",
       "      <td>1.0</td>\n",
       "      <td>1.000000</td>\n",
       "    </tr>\n",
       "    <tr>\n",
       "      <th>2</th>\n",
       "      <td>Türkiye'nin turizm gelirlerinin en yüksek oldu...</td>\n",
       "      <td>[2 0 2 2   y ı l ı n d a   t u r i z m   g e l...</td>\n",
       "      <td>2022</td>\n",
       "      <td>2022</td>\n",
       "      <td>1.0</td>\n",
       "      <td>0.0</td>\n",
       "      <td>1.0</td>\n",
       "      <td>1.0</td>\n",
       "      <td>1.000000</td>\n",
       "    </tr>\n",
       "    <tr>\n",
       "      <th>3</th>\n",
       "      <td>Türkiye'nin turizm gelirlerinin en düşük olduğ...</td>\n",
       "      <td>[t ü r k i y e ' d e   t u r i z m   g e l i r...</td>\n",
       "      <td>2020</td>\n",
       "      <td>2020</td>\n",
       "      <td>1.0</td>\n",
       "      <td>0.0</td>\n",
       "      <td>1.0</td>\n",
       "      <td>1.0</td>\n",
       "      <td>1.000000</td>\n",
       "    </tr>\n",
       "    <tr>\n",
       "      <th>4</th>\n",
       "      <td>2005/2006 sezonunda 25 golden daha fazla gol a...</td>\n",
       "      <td>[a l e x   d e   s o u z a   2 0 0 5 / 2 0 0 6...</td>\n",
       "      <td>alex de souza</td>\n",
       "      <td>Alex de Souza</td>\n",
       "      <td>1.0</td>\n",
       "      <td>0.0</td>\n",
       "      <td>0.0</td>\n",
       "      <td>0.0</td>\n",
       "      <td>0.846154</td>\n",
       "    </tr>\n",
       "  </tbody>\n",
       "</table>\n",
       "</div>"
      ],
      "text/plain": [
       "                                          user_input  \\\n",
       "0  Fenerbahçe'nin transferden en çok gelir elde e...   \n",
       "1  Fenerbahçe'nin transferden en az gelir elde et...   \n",
       "2  Türkiye'nin turizm gelirlerinin en yüksek oldu...   \n",
       "3  Türkiye'nin turizm gelirlerinin en düşük olduğ...   \n",
       "4  2005/2006 sezonunda 25 golden daha fazla gol a...   \n",
       "\n",
       "                                  retrieved_contexts       response  \\\n",
       "0  [2 0 2 1 / 2 0 2 2   s e z o n u n d a   f e n...      2021/2022   \n",
       "1  [2 0 2 1 / 2 0 2 2   s e z o n u n d a   f e n...      2021/2022   \n",
       "2  [2 0 2 2   y ı l ı n d a   t u r i z m   g e l...           2022   \n",
       "3  [t ü r k i y e ' d e   t u r i z m   g e l i r...           2020   \n",
       "4  [a l e x   d e   s o u z a   2 0 0 5 / 2 0 0 6...  alex de souza   \n",
       "\n",
       "       reference  rouge_score  bleu_score  exact_match  string_present  \\\n",
       "0      2023/2024          0.0         0.0          0.0             0.0   \n",
       "1      2021/2022          1.0         0.0          1.0             1.0   \n",
       "2           2022          1.0         0.0          1.0             1.0   \n",
       "3           2020          1.0         0.0          1.0             1.0   \n",
       "4  Alex de Souza          1.0         0.0          0.0             0.0   \n",
       "\n",
       "   non_llm_string_similarity  \n",
       "0                   0.777778  \n",
       "1                   1.000000  \n",
       "2                   1.000000  \n",
       "3                   1.000000  \n",
       "4                   0.846154  "
      ]
     },
     "metadata": {},
     "output_type": "display_data"
    },
    {
     "name": "stdout",
     "output_type": "stream",
     "text": [
      "Sonuçlar './RAG Modelleri & bert-turkish-question-answering/ytu-ce-cosmosturkish-colbert_ragas_evaluation_results.csv' dosyasına kaydedildi.\n",
      "\n",
      "\n",
      "ytu-ce-cosmosturkish-colbert modeline ait ortalama RAGAS ölçüm sonuçları aşağıdaki gibidir.\n",
      "Ortalama BLEU Skoru: 0.006\n",
      "Ortalama ROUGE Skoru: 0.405\n",
      "Ortalama Exact Match Skoru: 0.220\n",
      "Ortalama String Present Skoru: 0.320\n",
      "Ortalama String Similarity Skoru: 0.503\n"
     ]
    },
    {
     "name": "stderr",
     "output_type": "stream",
     "text": [
      "Some weights of the model checkpoint at lserinol/bert-turkish-question-answering were not used when initializing BertForQuestionAnswering: ['bert.pooler.dense.bias', 'bert.pooler.dense.weight']\n",
      "- This IS expected if you are initializing BertForQuestionAnswering from the checkpoint of a model trained on another task or with another architecture (e.g. initializing a BertForSequenceClassification model from a BertForPreTraining model).\n",
      "- This IS NOT expected if you are initializing BertForQuestionAnswering from the checkpoint of a model that you expect to be exactly identical (initializing a BertForSequenceClassification model from a BertForSequenceClassification model).\n",
      "Device set to use cuda:0\n",
      "d:\\Python\\lib\\site-packages\\transformers\\pipelines\\question_answering.py:391: FutureWarning: Passing a list of SQuAD examples to the pipeline is deprecated and will be removed in v5. Inputs should be passed using the `question` and `context` keyword arguments instead.\n",
      "  warnings.warn(\n"
     ]
    },
    {
     "name": "stdout",
     "output_type": "stream",
     "text": [
      "Cevaplar './RAG Modelleri & bert-turkish-question-answering/andreascharicolbert-xm-lt-cafr_updated_answers.json' dosyasına yazıldı.\n",
      "\n",
      "\n",
      "andreascharicolbert-xm-lt-cafr modeline ait RAGAS ölçüm sonuçları aşağıdaki gibidir.\n"
     ]
    },
    {
     "data": {
      "application/vnd.jupyter.widget-view+json": {
       "model_id": "0fd549c16e364e35b4671cd7199e520d",
       "version_major": 2,
       "version_minor": 0
      },
      "text/plain": [
       "Evaluating:   0%|          | 0/250 [00:00<?, ?it/s]"
      ]
     },
     "metadata": {},
     "output_type": "display_data"
    },
    {
     "data": {
      "text/html": [
       "<div>\n",
       "<style scoped>\n",
       "    .dataframe tbody tr th:only-of-type {\n",
       "        vertical-align: middle;\n",
       "    }\n",
       "\n",
       "    .dataframe tbody tr th {\n",
       "        vertical-align: top;\n",
       "    }\n",
       "\n",
       "    .dataframe thead th {\n",
       "        text-align: right;\n",
       "    }\n",
       "</style>\n",
       "<table border=\"1\" class=\"dataframe\">\n",
       "  <thead>\n",
       "    <tr style=\"text-align: right;\">\n",
       "      <th></th>\n",
       "      <th>user_input</th>\n",
       "      <th>retrieved_contexts</th>\n",
       "      <th>response</th>\n",
       "      <th>reference</th>\n",
       "      <th>rouge_score</th>\n",
       "      <th>bleu_score</th>\n",
       "      <th>exact_match</th>\n",
       "      <th>string_present</th>\n",
       "      <th>non_llm_string_similarity</th>\n",
       "    </tr>\n",
       "  </thead>\n",
       "  <tbody>\n",
       "    <tr>\n",
       "      <th>0</th>\n",
       "      <td>Fenerbahçe'nin transferden en çok gelir elde e...</td>\n",
       "      <td>[2 0 2 1 / 2 0 2 2   s e z o n u n d a   f e n...</td>\n",
       "      <td>2021/2022</td>\n",
       "      <td>2023/2024</td>\n",
       "      <td>0.0</td>\n",
       "      <td>0.0</td>\n",
       "      <td>0.0</td>\n",
       "      <td>0.0</td>\n",
       "      <td>0.777778</td>\n",
       "    </tr>\n",
       "    <tr>\n",
       "      <th>1</th>\n",
       "      <td>Fenerbahçe'nin transferden en az gelir elde et...</td>\n",
       "      <td>[2 0 2 1 / 2 0 2 2   s e z o n u n d a   f e n...</td>\n",
       "      <td>2021/2022</td>\n",
       "      <td>2021/2022</td>\n",
       "      <td>1.0</td>\n",
       "      <td>0.0</td>\n",
       "      <td>1.0</td>\n",
       "      <td>1.0</td>\n",
       "      <td>1.000000</td>\n",
       "    </tr>\n",
       "    <tr>\n",
       "      <th>2</th>\n",
       "      <td>Türkiye'nin turizm gelirlerinin en yüksek oldu...</td>\n",
       "      <td>[2 0 2 2   y ı l ı n d a   t u r i z m   g e l...</td>\n",
       "      <td>2022</td>\n",
       "      <td>2022</td>\n",
       "      <td>1.0</td>\n",
       "      <td>0.0</td>\n",
       "      <td>1.0</td>\n",
       "      <td>1.0</td>\n",
       "      <td>1.000000</td>\n",
       "    </tr>\n",
       "    <tr>\n",
       "      <th>3</th>\n",
       "      <td>Türkiye'nin turizm gelirlerinin en düşük olduğ...</td>\n",
       "      <td>[t ü r k i y e ' d e   t u r i z m   g e l i r...</td>\n",
       "      <td>2020</td>\n",
       "      <td>2020</td>\n",
       "      <td>1.0</td>\n",
       "      <td>0.0</td>\n",
       "      <td>1.0</td>\n",
       "      <td>1.0</td>\n",
       "      <td>1.000000</td>\n",
       "    </tr>\n",
       "    <tr>\n",
       "      <th>4</th>\n",
       "      <td>2005/2006 sezonunda 25 golden daha fazla gol a...</td>\n",
       "      <td>[n i c o l a s   a n e l k a   2 0 0 5 / 2 0 0...</td>\n",
       "      <td>nicolas anelka</td>\n",
       "      <td>Alex de Souza</td>\n",
       "      <td>0.0</td>\n",
       "      <td>0.0</td>\n",
       "      <td>0.0</td>\n",
       "      <td>0.0</td>\n",
       "      <td>0.142857</td>\n",
       "    </tr>\n",
       "  </tbody>\n",
       "</table>\n",
       "</div>"
      ],
      "text/plain": [
       "                                          user_input  \\\n",
       "0  Fenerbahçe'nin transferden en çok gelir elde e...   \n",
       "1  Fenerbahçe'nin transferden en az gelir elde et...   \n",
       "2  Türkiye'nin turizm gelirlerinin en yüksek oldu...   \n",
       "3  Türkiye'nin turizm gelirlerinin en düşük olduğ...   \n",
       "4  2005/2006 sezonunda 25 golden daha fazla gol a...   \n",
       "\n",
       "                                  retrieved_contexts        response  \\\n",
       "0  [2 0 2 1 / 2 0 2 2   s e z o n u n d a   f e n...       2021/2022   \n",
       "1  [2 0 2 1 / 2 0 2 2   s e z o n u n d a   f e n...       2021/2022   \n",
       "2  [2 0 2 2   y ı l ı n d a   t u r i z m   g e l...            2022   \n",
       "3  [t ü r k i y e ' d e   t u r i z m   g e l i r...            2020   \n",
       "4  [n i c o l a s   a n e l k a   2 0 0 5 / 2 0 0...  nicolas anelka   \n",
       "\n",
       "       reference  rouge_score  bleu_score  exact_match  string_present  \\\n",
       "0      2023/2024          0.0         0.0          0.0             0.0   \n",
       "1      2021/2022          1.0         0.0          1.0             1.0   \n",
       "2           2022          1.0         0.0          1.0             1.0   \n",
       "3           2020          1.0         0.0          1.0             1.0   \n",
       "4  Alex de Souza          0.0         0.0          0.0             0.0   \n",
       "\n",
       "   non_llm_string_similarity  \n",
       "0                   0.777778  \n",
       "1                   1.000000  \n",
       "2                   1.000000  \n",
       "3                   1.000000  \n",
       "4                   0.142857  "
      ]
     },
     "metadata": {},
     "output_type": "display_data"
    },
    {
     "name": "stdout",
     "output_type": "stream",
     "text": [
      "Sonuçlar './RAG Modelleri & bert-turkish-question-answering/andreascharicolbert-xm-lt-cafr_ragas_evaluation_results.csv' dosyasına kaydedildi.\n",
      "\n",
      "\n",
      "andreascharicolbert-xm-lt-cafr modeline ait ortalama RAGAS ölçüm sonuçları aşağıdaki gibidir.\n",
      "Ortalama BLEU Skoru: 0.006\n",
      "Ortalama ROUGE Skoru: 0.429\n",
      "Ortalama Exact Match Skoru: 0.180\n",
      "Ortalama String Present Skoru: 0.280\n",
      "Ortalama String Similarity Skoru: 0.504\n"
     ]
    }
   ],
   "source": [
    "rag_models = [\n",
    "    \"jinaaijina-colbert-v2\",\n",
    "    \"ytu-ce-cosmosturkish-colbert\",\n",
    "    \"andreascharicolbert-xm-lt-cafr\"\n",
    "]\n",
    "\n",
    "for rag_model in rag_models:\n",
    "    bert_turkish_question_answering(rag_model)\n",
    "    print(f\"\\n\\n{rag_model} modeline ait RAGAS ölçüm sonuçları aşağıdaki gibidir.\")\n",
    "    ragas_metric_calculation(rag_model)\n",
    "    print(f\"\\n\\n{rag_model} modeline ait ortalama RAGAS ölçüm sonuçları aşağıdaki gibidir.\")\n",
    "    average_ragas_scores(rag_model)"
   ]
  },
  {
   "cell_type": "code",
   "execution_count": 6,
   "metadata": {},
   "outputs": [
    {
     "data": {
      "image/png": "[encoded data removed]",
      "text/plain": [
       "<Figure size 1000x600 with 1 Axes>"
      ]
     },
     "metadata": {},
     "output_type": "display_data"
    }
   ],
   "source": [
    "def plot_metrics_by_model(scores):\n",
    "    metrics = [\"bleu\", \"rouge\", \"exact_match\", \"string_present\", \"string_similarity\"]\n",
    "    metric_labels = {\n",
    "        \"bleu\": \"BLEU\",\n",
    "        \"rouge\": \"ROUGE\",\n",
    "        \"exact_match\": \"Exact Match\",\n",
    "        \"string_present\": \"String Present\",\n",
    "        \"string_similarity\": \"String Similarity\"\n",
    "    }\n",
    "\n",
    "    fig, ax = plt.subplots(figsize=(10, 6))\n",
    "\n",
    "    for i, model in enumerate(scores[\"model\"]):\n",
    "        ax.plot(\n",
    "            metrics, \n",
    "            [scores[metric][i] for metric in metrics], \n",
    "            marker=\"o\", \n",
    "            label=model\n",
    "        )\n",
    "    \n",
    "    ax.set_xlabel(\"Metrikler\")\n",
    "    ax.set_ylabel(\"Ortalama Skor\")\n",
    "    ax.set_title(\"Modellere Göre RAGAS Metrik Performansı\")\n",
    "    ax.legend(title=\"Modeller\")\n",
    "    ax.grid(True)\n",
    "\n",
    "    plt.tight_layout()\n",
    "    plt.show()\n",
    "\n",
    "# Çizgi grafiği: Metrikler X ekseninde, modeller çizgilerde\n",
    "plot_metrics_by_model(scores)"
   ]
  }
 ],
 "metadata": {
  "kernelspec": {
   "display_name": "Python 3",
   "language": "python",
   "name": "python3"
  },
  "language_info": {
   "codemirror_mode": {
    "name": "ipython",
    "version": 3
   },
   "file_extension": ".py",
   "mimetype": "text/x-python",
   "name": "python",
   "nbconvert_exporter": "python",
   "pygments_lexer": "ipython3",
   "version": "3.9.1"
  }
 },
 "nbformat": 4,
 "nbformat_minor": 2
}
